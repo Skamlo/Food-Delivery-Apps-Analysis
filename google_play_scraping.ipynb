{
 "cells": [
  {
   "cell_type": "code",
   "execution_count": 3,
   "metadata": {},
   "outputs": [],
   "source": [
    "from google_play_scraper import app, Sort, reviews_all\n",
    "import pandas as pd"
   ]
  },
  {
   "cell_type": "markdown",
   "metadata": {},
   "source": [
    "# Polish"
   ]
  },
  {
   "cell_type": "markdown",
   "metadata": {},
   "source": [
    "#### Scraping"
   ]
  },
  {
   "cell_type": "code",
   "execution_count": 28,
   "metadata": {},
   "outputs": [],
   "source": [
    "apps = {\n",
    "    \"Glovo\": \"com.glovo\",\n",
    "    \"Uber Eats\": \"com.ubercab.eats\",\n",
    "    \"Bolt Food\": \"com.bolt.deliveryclient\",\n",
    "    \"Wolt\": \"com.wolt.android\",\n",
    "    \"Pyszne pl\": \"com.yourdelivery.pyszne\"\n",
    "}"
   ]
  },
  {
   "cell_type": "code",
   "execution_count": 35,
   "metadata": {},
   "outputs": [
    {
     "name": "stdout",
     "output_type": "stream",
     "text": [
      "Glovo: 21094 samples\n",
      "Uber Eats: 14129 samples\n",
      "Bolt Food: 796 samples\n",
      "Wolt: 2189 samples\n",
      "Pyszne pl: 28855 samples\n"
     ]
    }
   ],
   "source": [
    "for name, id in apps.items():\n",
    "    print(f\"{name}: \", end='')\n",
    "    result = reviews_all(id, lang='pl', country='pl')\n",
    "    print(f\"{len(result)} samples\")\n",
    "    df = pd.DataFrame(result)\n",
    "    df.to_csv(f\"data/google_play_data/pl/{'_'.join(name.lower().split())}_data.csv\", index=False)"
   ]
  },
  {
   "cell_type": "markdown",
   "metadata": {},
   "source": [
    "#### Combining data sets"
   ]
  },
  {
   "cell_type": "code",
   "execution_count": 37,
   "metadata": {},
   "outputs": [],
   "source": [
    "bolt_food_data = pd.read_csv('data/google_play_data/pl/bolt_food_data.csv')\n",
    "glovo_data     = pd.read_csv('data/google_play_data/pl/glovo_data.csv')\n",
    "pyszne_pl_data = pd.read_csv('data/google_play_data/pl/pyszne_pl_data.csv')\n",
    "uber_eats_data = pd.read_csv('data/google_play_data/pl/uber_eats_data.csv')\n",
    "wolt_data      = pd.read_csv('data/google_play_data/pl/wolt_data.csv')"
   ]
  },
  {
   "cell_type": "code",
   "execution_count": 38,
   "metadata": {},
   "outputs": [],
   "source": [
    "bolt_food_data['app'] = \"Bolt Food\"\n",
    "glovo_data['app'] = \"Glovo\"\n",
    "pyszne_pl_data['app'] = \"Pyszne.pl\"\n",
    "uber_eats_data['app'] = \"Uber Eats\"\n",
    "wolt_data['app'] = \"Wolt\""
   ]
  },
  {
   "cell_type": "code",
   "execution_count": 41,
   "metadata": {},
   "outputs": [],
   "source": [
    "google_play_data = pd.concat([\n",
    "    bolt_food_data,\n",
    "    glovo_data,\n",
    "    pyszne_pl_data,\n",
    "    uber_eats_data,\n",
    "    wolt_data\n",
    "])"
   ]
  },
  {
   "cell_type": "code",
   "execution_count": 43,
   "metadata": {},
   "outputs": [],
   "source": [
    "google_play_data.to_csv('data/google_play_data/google_play_data_pl.csv', index=False)"
   ]
  },
  {
   "cell_type": "markdown",
   "metadata": {},
   "source": [
    "# English"
   ]
  },
  {
   "cell_type": "markdown",
   "metadata": {},
   "source": [
    "#### Scraping"
   ]
  },
  {
   "cell_type": "code",
   "execution_count": 1,
   "metadata": {},
   "outputs": [],
   "source": [
    "apps = {\n",
    "    \"Glovo\": \"com.glovo\",\n",
    "    \"Bolt Food\": \"com.bolt.deliveryclient\",\n",
    "    \"Wolt\": \"com.wolt.android\",\n",
    "    \"Grubhub\": \"com.grubhub.android\",\n",
    "    \"Uber Eats\": \"com.ubercab.eats\"\n",
    "}"
   ]
  },
  {
   "cell_type": "code",
   "execution_count": null,
   "metadata": {},
   "outputs": [],
   "source": [
    "for name, id in apps.items():\n",
    "    print(f\"{name}: \", end='')\n",
    "    result = reviews_all(id, lang='en', country='us')\n",
    "    print(f\"{len(result)} samples\")\n",
    "    df = pd.DataFrame(result)\n",
    "    df.to_csv(f\"data/google_play_data/en/{'_'.join(name.lower().split())}_data.csv\", index=False)"
   ]
  },
  {
   "cell_type": "markdown",
   "metadata": {},
   "source": [
    "#### Combining data sets"
   ]
  },
  {
   "cell_type": "code",
   "execution_count": 12,
   "metadata": {},
   "outputs": [],
   "source": [
    "bolt_food_data = pd.read_csv('data/google_play_data/en/bolt_food_data.csv')\n",
    "glovo_data = pd.read_csv('data/google_play_data/en/glovo_data.csv')\n",
    "grubhub_data = pd.read_csv('data/google_play_data/en/grubhub_data.csv')\n",
    "uber_eats_data = pd.read_csv('data/google_play_data/en/uber_eats_data.csv')\n",
    "wolt_data = pd.read_csv('data/google_play_data/en/wolt_data.csv')"
   ]
  },
  {
   "cell_type": "code",
   "execution_count": 13,
   "metadata": {},
   "outputs": [],
   "source": [
    "bolt_food_data['app'] = 'Bolt Food'\n",
    "glovo_data['app'] = 'Glovo'\n",
    "grubhub_data['app'] = 'Grubhub'\n",
    "uber_eats_data['app'] = 'Uber Eats'\n",
    "wolt_data['app'] = 'Wolt'"
   ]
  },
  {
   "cell_type": "code",
   "execution_count": 14,
   "metadata": {},
   "outputs": [],
   "source": [
    "df = pd.concat([\n",
    "    bolt_food_data,\n",
    "    glovo_data,\n",
    "    grubhub_data,\n",
    "    uber_eats_data,\n",
    "    wolt_data\n",
    "])"
   ]
  },
  {
   "cell_type": "code",
   "execution_count": 15,
   "metadata": {},
   "outputs": [],
   "source": [
    "df.to_csv(\"data/google_play_data/google_play_data_en.csv\", index=False)"
   ]
  }
 ],
 "metadata": {
  "kernelspec": {
   "display_name": "Python 3",
   "language": "python",
   "name": "python3"
  },
  "language_info": {
   "codemirror_mode": {
    "name": "ipython",
    "version": 3
   },
   "file_extension": ".py",
   "mimetype": "text/x-python",
   "name": "python",
   "nbconvert_exporter": "python",
   "pygments_lexer": "ipython3",
   "version": "3.11.5"
  }
 },
 "nbformat": 4,
 "nbformat_minor": 2
}
