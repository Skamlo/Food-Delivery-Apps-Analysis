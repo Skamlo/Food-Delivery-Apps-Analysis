{
 "cells": [
  {
   "cell_type": "code",
   "execution_count": 1,
   "metadata": {},
   "outputs": [],
   "source": [
    "from app_store_scraper import AppStore\n",
    "import pandas as pd\n",
    "import numpy as np"
   ]
  },
  {
   "cell_type": "code",
   "execution_count": null,
   "metadata": {},
   "outputs": [],
   "source": [
    "apps = {\n",
    "    \"glovo-food-delivery-and-more\": \"951812684\",\n",
    "    \"bolt-food\": \"1451492388\",\n",
    "    \"wolt-delivery-food-and-more\": \"943905271\",\n",
    "    \"grubhub-food-delivery\": \"302920553\",\n",
    "    \"uber-eats-food-delivery\": \"1058959277\"\n",
    "}\n",
    "country_IDs =['us', 'gb', 'au']\n",
    "\n",
    "for name, id in apps.items():\n",
    "    part_Dfs = []\n",
    "    for country in country_IDs:\n",
    "        result = AppStore(country, name, id)\n",
    "        result.review(sleep=1)\n",
    "        part_Df = pd.DataFrame(np.array(result.reviews))\n",
    "        part_Dfs.append(part_Df)\n",
    "    df = pd.concat(part_Dfs)\n",
    "    df.to_csv(\n",
    "        f\"/Users/jendras/Dokumenty/PYCHARM/Data/{'_'.join(name.lower().split('-'))}_data.csv\", index=False)\n",
    "    print(f\"{name}: {len(df)} samples\")"
   ]
  },
  {
   "cell_type": "code",
   "execution_count": 3,
   "metadata": {},
   "outputs": [],
   "source": [
    "glovo_data = pd.read_csv(\n",
    "    'data/glovo_food_delivery_and_more_data.csv')\n",
    "bolt_food_data = pd.read_csv(\n",
    "    'data/bolt_food_data.csv')\n",
    "wolt_data = pd.read_csv(\n",
    "    'data/wolt_delivery_food_and_more_data.csv')\n",
    "grubhub_data = pd.read_csv(\n",
    "    'data/grubhub_food_delivery_data.csv')\n",
    "uber_eats_data = pd.read_csv(\n",
    "    'data/uber_eats_food_delivery_data.csv')"
   ]
  },
  {
   "cell_type": "code",
   "execution_count": 4,
   "metadata": {},
   "outputs": [],
   "source": [
    "bolt_food_data['app'] = 'Bolt Food'\n",
    "glovo_data['app'] = 'Glovo'\n",
    "grubhub_data['app'] = 'Grubhub'\n",
    "uber_eats_data['app'] = 'Uber Eats'\n",
    "wolt_data['app'] = 'Wolt'"
   ]
  },
  {
   "cell_type": "code",
   "execution_count": 5,
   "metadata": {},
   "outputs": [],
   "source": [
    "df = pd.concat([\n",
    "    bolt_food_data,\n",
    "    glovo_data,\n",
    "    grubhub_data,\n",
    "    uber_eats_data,\n",
    "    wolt_data\n",
    "])"
   ]
  },
  {
   "cell_type": "code",
   "execution_count": 6,
   "metadata": {},
   "outputs": [],
   "source": [
    "df.to_csv(\"data/app_store_data_en.csv\", index=False)"
   ]
  }
 ],
 "metadata": {
  "kernelspec": {
   "display_name": "Python 3",
   "language": "python",
   "name": "python3"
  },
  "language_info": {
   "codemirror_mode": {
    "name": "ipython",
    "version": 3
   },
   "file_extension": ".py",
   "mimetype": "text/x-python",
   "name": "python",
   "nbconvert_exporter": "python",
   "pygments_lexer": "ipython3",
   "version": "3.9.6"
  }
 },
 "nbformat": 4,
 "nbformat_minor": 2
}
