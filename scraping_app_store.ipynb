{
 "cells": [
  {
   "cell_type": "code",
   "execution_count": 1,
   "metadata": {},
   "outputs": [],
   "source": [
    "from app_store_scraper import AppStore\n",
    "import pandas as pd\n",
    "import numpy as np"
   ]
  },
  {
   "cell_type": "code",
   "execution_count": null,
   "metadata": {},
   "outputs": [],
   "source": [
    "apps = {\n",
    "    \"glovo-food-delivery-and-more\": \"951812684\",\n",
    "    \"bolt-food\": \"1451492388\",\n",
    "    \"wolt-delivery-food-and-more\": \"943905271\",\n",
    "    \"grubhub-food-delivery\": \"302920553\",\n",
    "    \"uber-eats-food-delivery\": \"1058959277\"\n",
    "}\n",
    "names = [\n",
    "    \"Glovo\",\n",
    "    \"Bolt Food\",\n",
    "    \"Wolt\",\n",
    "    \"Grubhub\",\n",
    "    \"Uber Eats\"\n",
    "]\n",
    "country_IDs =['us', 'gb', 'au']\n",
    "\n",
    "for name, (id_name, id) in zip(names, apps.items()):\n",
    "    df_app = pd.DataFrame()\n",
    "    for country in country_IDs:\n",
    "        result = AppStore(country, id_name, id)\n",
    "        result.review(sleep=1)\n",
    "\n",
    "        date = []\n",
    "        review = []\n",
    "        rating = []\n",
    "        isEdited = []\n",
    "        userName = []\n",
    "        title = []\n",
    "\n",
    "        for d in result.reviews:\n",
    "            date.append(d['date'])\n",
    "            review.append(d['review'])\n",
    "            rating.append(d['rating'])\n",
    "            isEdited.append(d['isEdited'])\n",
    "            userName.append(d['userName'])\n",
    "            title.append(d['title'])\n",
    "\n",
    "        df_current = pd.DataFrame({\n",
    "            'date': date,\n",
    "            'review': review,\n",
    "            'rating': rating,\n",
    "            'isEdited': isEdited,\n",
    "            'userName': userName,\n",
    "            'title': title\n",
    "        })\n",
    "\n",
    "        df_app = pd.concat([df_app, df_current], axis=0)\n",
    "\n",
    "    df_app['app'] = name\n",
    "    name = '_'.join(name.lower().split())\n",
    "    df_app.to_csv(f'data/app_store_data/{name}_data.csv', index=False)"
   ]
  }
 ],
 "metadata": {
  "kernelspec": {
   "display_name": "Python 3",
   "language": "python",
   "name": "python3"
  },
  "language_info": {
   "codemirror_mode": {
    "name": "ipython",
    "version": 3
   },
   "file_extension": ".py",
   "mimetype": "text/x-python",
   "name": "python",
   "nbconvert_exporter": "python",
   "pygments_lexer": "ipython3",
   "version": "3.11.5"
  }
 },
 "nbformat": 4,
 "nbformat_minor": 2
}
