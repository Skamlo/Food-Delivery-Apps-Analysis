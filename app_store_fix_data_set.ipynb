{
 "cells": [
  {
   "cell_type": "code",
   "execution_count": 11,
   "metadata": {},
   "outputs": [],
   "source": [
    "import numpy as np\n",
    "import pandas as pd\n",
    "import datetime"
   ]
  },
  {
   "cell_type": "code",
   "execution_count": 5,
   "metadata": {},
   "outputs": [
    {
     "data": {
      "text/html": [
       "<div>\n",
       "<style scoped>\n",
       "    .dataframe tbody tr th:only-of-type {\n",
       "        vertical-align: middle;\n",
       "    }\n",
       "\n",
       "    .dataframe tbody tr th {\n",
       "        vertical-align: top;\n",
       "    }\n",
       "\n",
       "    .dataframe thead th {\n",
       "        text-align: right;\n",
       "    }\n",
       "</style>\n",
       "<table border=\"1\" class=\"dataframe\">\n",
       "  <thead>\n",
       "    <tr style=\"text-align: right;\">\n",
       "      <th></th>\n",
       "      <th>0</th>\n",
       "      <th>app</th>\n",
       "    </tr>\n",
       "  </thead>\n",
       "  <tbody>\n",
       "    <tr>\n",
       "      <th>0</th>\n",
       "      <td>{'date': datetime.datetime(2022, 10, 20, 17, 8...</td>\n",
       "      <td>Bolt Food</td>\n",
       "    </tr>\n",
       "    <tr>\n",
       "      <th>1</th>\n",
       "      <td>{'date': datetime.datetime(2022, 8, 19, 15, 56...</td>\n",
       "      <td>Bolt Food</td>\n",
       "    </tr>\n",
       "    <tr>\n",
       "      <th>2</th>\n",
       "      <td>{'date': datetime.datetime(2023, 7, 26, 9, 3, ...</td>\n",
       "      <td>Bolt Food</td>\n",
       "    </tr>\n",
       "  </tbody>\n",
       "</table>\n",
       "</div>"
      ],
      "text/plain": [
       "                                                   0        app\n",
       "0  {'date': datetime.datetime(2022, 10, 20, 17, 8...  Bolt Food\n",
       "1  {'date': datetime.datetime(2022, 8, 19, 15, 56...  Bolt Food\n",
       "2  {'date': datetime.datetime(2023, 7, 26, 9, 3, ...  Bolt Food"
      ]
     },
     "execution_count": 5,
     "metadata": {},
     "output_type": "execute_result"
    }
   ],
   "source": [
    "data = pd.read_csv('data/app_store_data/app_store_data_en_old.csv')\n",
    "data.head(3)"
   ]
  },
  {
   "cell_type": "code",
   "execution_count": 15,
   "metadata": {},
   "outputs": [],
   "source": [
    "date = []\n",
    "review = []\n",
    "rating = []\n",
    "isEdited = []\n",
    "userName = []\n",
    "title = []\n",
    "\n",
    "for row in data['0']:\n",
    "    row = eval(row)\n",
    "    date.append(row['date'])\n",
    "    review.append(row['review'])\n",
    "    rating.append(row['rating'])\n",
    "    isEdited.append(row['isEdited'])\n",
    "    userName.append(row['userName'])\n",
    "    title.append(row['title'])\n",
    "\n",
    "data = pd.concat([\n",
    "    pd.DataFrame({\n",
    "        'date': date,\n",
    "        'review': review,\n",
    "        'rating': rating,\n",
    "        'isEdited': isEdited,\n",
    "        'userName': userName,\n",
    "        'title': title\n",
    "    }),\n",
    "    data['app']\n",
    "], axis=1)"
   ]
  },
  {
   "cell_type": "code",
   "execution_count": 18,
   "metadata": {},
   "outputs": [],
   "source": [
    "data.to_csv('data/app_store_data/app_store_data_en.csv', index=False)"
   ]
  }
 ],
 "metadata": {
  "kernelspec": {
   "display_name": "Python 3",
   "language": "python",
   "name": "python3"
  },
  "language_info": {
   "codemirror_mode": {
    "name": "ipython",
    "version": 3
   },
   "file_extension": ".py",
   "mimetype": "text/x-python",
   "name": "python",
   "nbconvert_exporter": "python",
   "pygments_lexer": "ipython3",
   "version": "3.11.5"
  }
 },
 "nbformat": 4,
 "nbformat_minor": 2
}
