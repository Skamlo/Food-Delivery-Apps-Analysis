{
 "cells": [
  {
   "cell_type": "code",
   "execution_count": 1,
   "metadata": {},
   "outputs": [],
   "source": [
    "from google_play_scraper import app, reviews_all\n",
    "import pandas as pd\n",
    "import numpy as np"
   ]
  },
  {
   "cell_type": "markdown",
   "metadata": {},
   "source": [
    "#### Scraping"
   ]
  },
  {
   "cell_type": "code",
   "execution_count": 1,
   "metadata": {},
   "outputs": [],
   "source": [
    "apps = {\n",
    "    \"Glovo\": \"com.glovo\",\n",
    "    \"Bolt Food\": \"com.bolt.deliveryclient\",\n",
    "    \"Wolt\": \"com.wolt.android\",\n",
    "    \"Grubhub\": \"com.grubhub.android\",\n",
    "    \"Uber Eats\": \"com.ubercab.eats\"\n",
    "}"
   ]
  },
  {
   "cell_type": "code",
   "execution_count": null,
   "metadata": {},
   "outputs": [],
   "source": [
    "for name, id in apps.items():\n",
    "    print(f\"{name}: \", end='')\n",
    "    result = reviews_all(id, lang='en', country='us')\n",
    "    print(f\"{len(result)} samples\")\n",
    "    df = pd.DataFrame(result)\n",
    "    df['app'] = name\n",
    "    df.to_csv(f\"data/google_play_data/en/{'_'.join(name.lower().split())}_data.csv\", index=False)"
   ]
  },
  {
   "cell_type": "markdown",
   "metadata": {},
   "source": [
    "#### Splitting the Uber Eats dataset for upload to Github"
   ]
  },
  {
   "cell_type": "code",
   "execution_count": 14,
   "metadata": {},
   "outputs": [],
   "source": [
    "uber_eats = pd.read_csv('data/google_play_data/uber_eats_data.csv')\n",
    "\n",
    "split_points = np.linspace(0, len(uber_eats), 8)\n",
    "\n",
    "for i in range(7):\n",
    "    uber_eats[split_points[i]:split_points[i+1]]\\\n",
    "        .to_csv(f'data/google_play_data/uber_eats_data_part{i+1}.csv', index=False)"
   ]
  }
 ],
 "metadata": {
  "kernelspec": {
   "display_name": "Python 3",
   "language": "python",
   "name": "python3"
  },
  "language_info": {
   "codemirror_mode": {
    "name": "ipython",
    "version": 3
   },
   "file_extension": ".py",
   "mimetype": "text/x-python",
   "name": "python",
   "nbconvert_exporter": "python",
   "pygments_lexer": "ipython3",
   "version": "3.11.5"
  }
 },
 "nbformat": 4,
 "nbformat_minor": 2
}
