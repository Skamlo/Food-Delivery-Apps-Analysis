{
 "cells": [
  {
   "cell_type": "markdown",
   "metadata": {},
   "source": [
    "#### Libraries"
   ]
  },
  {
   "cell_type": "code",
   "execution_count": 32,
   "metadata": {},
   "outputs": [],
   "source": [
    "import numpy as np\n",
    "import pandas as pd\n",
    "\n",
    "import warnings\n",
    "warnings.filterwarnings('ignore')"
   ]
  },
  {
   "cell_type": "markdown",
   "metadata": {},
   "source": [
    "#### Data"
   ]
  },
  {
   "cell_type": "code",
   "execution_count": 2,
   "metadata": {},
   "outputs": [],
   "source": [
    "app_store = pd.read_csv('data/app_store_data/app_store_data_en.csv')\n",
    "\n",
    "bolt_food_data = pd.read_csv('data/google_play_data/en/bolt_food_data.csv')\n",
    "glovo_data = pd.read_csv('data/google_play_data/en/glovo_data.csv')\n",
    "grubhub_data = pd.read_csv('data/google_play_data/en/grubhub_data.csv')\n",
    "uber_eats_data = pd.concat([\n",
    "    pd.read_csv('data/google_play_data/en/uber_eats_data_part1.csv'),\n",
    "    pd.read_csv('data/google_play_data/en/uber_eats_data_part2.csv'),\n",
    "    pd.read_csv('data/google_play_data/en/uber_eats_data_part3.csv'),\n",
    "    pd.read_csv('data/google_play_data/en/uber_eats_data_part4.csv'),\n",
    "    pd.read_csv('data/google_play_data/en/uber_eats_data_part5.csv'),\n",
    "    pd.read_csv('data/google_play_data/en/uber_eats_data_part6.csv'),\n",
    "    pd.read_csv('data/google_play_data/en/uber_eats_data_part7.csv')\n",
    "], axis=0)\n",
    "wolt_data = pd.read_csv('data/google_play_data/en/wolt_data.csv')\n",
    "\n",
    "bolt_food_data['app'] = 'Bolt Food'\n",
    "glovo_data['app'] = 'Glovo'\n",
    "grubhub_data['app'] = 'Grubhub'\n",
    "uber_eats_data['app'] = 'Uber Eats'\n",
    "wolt_data['app'] = 'Wolt'\n",
    "\n",
    "google_play = pd.concat([\n",
    "    bolt_food_data,\n",
    "    glovo_data,\n",
    "    grubhub_data,\n",
    "    uber_eats_data,\n",
    "    wolt_data\n",
    "])\n",
    "\n",
    "del bolt_food_data\n",
    "del glovo_data\n",
    "del grubhub_data\n",
    "del uber_eats_data\n",
    "del wolt_data"
   ]
  },
  {
   "cell_type": "code",
   "execution_count": 4,
   "metadata": {},
   "outputs": [],
   "source": [
    "google_play.drop(['Unnamed: 0'], axis=1, inplace=True)"
   ]
  },
  {
   "cell_type": "code",
   "execution_count": 9,
   "metadata": {},
   "outputs": [],
   "source": [
    "# rename columns\n",
    "app_store.rename(columns={\n",
    "    'review': 'content',\n",
    "    'rating': 'score',\n",
    "    'date': 'at'\n",
    "}, inplace=True)"
   ]
  },
  {
   "cell_type": "code",
   "execution_count": 11,
   "metadata": {},
   "outputs": [],
   "source": [
    "app_store['platform'] = 'App Store'\n",
    "google_play['platform'] = 'Google Play'"
   ]
  },
  {
   "cell_type": "code",
   "execution_count": 12,
   "metadata": {},
   "outputs": [],
   "source": [
    "df = pd.concat([\n",
    "    app_store,\n",
    "    google_play\n",
    "], axis=0)\n",
    "\n",
    "del app_store\n",
    "del google_play"
   ]
  },
  {
   "cell_type": "code",
   "execution_count": 25,
   "metadata": {},
   "outputs": [],
   "source": [
    "df.drop([\n",
    "    'isEdited','title', 'reviewId', 'userImage', 'thumbsUpCount', 'reviewCreatedVersion'\n",
    "], axis=1, inplace=True)"
   ]
  },
  {
   "cell_type": "code",
   "execution_count": 27,
   "metadata": {},
   "outputs": [
    {
     "data": {
      "text/plain": [
       "at                    0\n",
       "content             331\n",
       "score                 0\n",
       "userName              7\n",
       "app                   0\n",
       "platform              0\n",
       "replyContent    1043631\n",
       "repliedAt       1043631\n",
       "appVersion       274087\n",
       "dtype: int64"
      ]
     },
     "execution_count": 27,
     "metadata": {},
     "output_type": "execute_result"
    }
   ],
   "source": [
    "df.isna().sum()"
   ]
  },
  {
   "cell_type": "code",
   "execution_count": 28,
   "metadata": {},
   "outputs": [],
   "source": [
    "df = df[(df.content.notna()) & (df.userName.notna())]"
   ]
  },
  {
   "cell_type": "code",
   "execution_count": null,
   "metadata": {},
   "outputs": [],
   "source": [
    "df.rename(columns={\n",
    "    'at': 'date',\n",
    "    'repliedAt': 'repliedDate'\n",
    "}, inplace=True)"
   ]
  },
  {
   "cell_type": "code",
   "execution_count": 34,
   "metadata": {},
   "outputs": [],
   "source": [
    "df.to_csv('data/food_delivery_apps.csv', index=False)"
   ]
  }
 ],
 "metadata": {
  "kernelspec": {
   "display_name": "Python 3",
   "language": "python",
   "name": "python3"
  },
  "language_info": {
   "codemirror_mode": {
    "name": "ipython",
    "version": 3
   },
   "file_extension": ".py",
   "mimetype": "text/x-python",
   "name": "python",
   "nbconvert_exporter": "python",
   "pygments_lexer": "ipython3",
   "version": "3.11.5"
  }
 },
 "nbformat": 4,
 "nbformat_minor": 2
}
