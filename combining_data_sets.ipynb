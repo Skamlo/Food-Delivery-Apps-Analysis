{
 "cells": [
  {
   "cell_type": "markdown",
   "metadata": {},
   "source": [
    "#### Libraries"
   ]
  },
  {
   "cell_type": "code",
   "execution_count": 1,
   "metadata": {},
   "outputs": [],
   "source": [
    "import numpy as np\n",
    "import pandas as pd\n",
    "\n",
    "import warnings\n",
    "warnings.filterwarnings('ignore')"
   ]
  },
  {
   "cell_type": "markdown",
   "metadata": {},
   "source": [
    "#### Data"
   ]
  },
  {
   "cell_type": "code",
   "execution_count": null,
   "metadata": {},
   "outputs": [],
   "source": [
    "bolt_food = pd.read_csv('data/app_store_data/bolt_food_data.csv')\n",
    "glovo = pd.read_csv('data/app_store_data/glovo_data.csv')\n",
    "grubhub = pd.read_csv('data/app_store_data/grubhub_data.csv')\n",
    "uber_eats = pd.read_csv('data/app_store_data/uber_eats_data.csv')\n",
    "wolt = pd.read_csv('data/app_store_data/wolt_data.csv')\n",
    "\n",
    "app_store = pd.concat([bolt_food, glovo, grubhub, uber_eats, wolt])"
   ]
  },
  {
   "cell_type": "code",
   "execution_count": null,
   "metadata": {},
   "outputs": [],
   "source": [
    "bolt_food = pd.read_csv('data/google_play_data/bolt_food_data.csv')\n",
    "glovo = pd.read_csv('data/google_play_data/glovo_data.csv')\n",
    "grubhub = pd.read_csv('data/google_play_data/grubhub_data.csv')\n",
    "uber_eats = pd.concat([pd.read_csv(f'data/google_play_data/uber_eats_data_part{i}.csv') for i in range(1, 8)])\n",
    "wolt = pd.read_csv('data/google_play_data/wolt_data.csv')\n",
    "\n",
    "google_play = pd.concat([bolt_food, glovo, grubhub, uber_eats, wolt])"
   ]
  },
  {
   "cell_type": "code",
   "execution_count": null,
   "metadata": {},
   "outputs": [],
   "source": [
    "del bolt_food\n",
    "del glovo\n",
    "del grubhub\n",
    "del uber_eats\n",
    "del wolt"
   ]
  },
  {
   "cell_type": "code",
   "execution_count": 6,
   "metadata": {},
   "outputs": [],
   "source": [
    "app_store.rename(columns={\n",
    "    'review': 'content',\n",
    "    'rating': 'score',\n",
    "    'date': 'at'\n",
    "}, inplace=True)"
   ]
  },
  {
   "cell_type": "code",
   "execution_count": 7,
   "metadata": {},
   "outputs": [],
   "source": [
    "app_store['platform'] = 'App Store'\n",
    "google_play['platform'] = 'Google Play'"
   ]
  },
  {
   "cell_type": "code",
   "execution_count": 8,
   "metadata": {},
   "outputs": [],
   "source": [
    "df = pd.concat([\n",
    "    app_store,\n",
    "    google_play\n",
    "], axis=0)\n",
    "\n",
    "del app_store\n",
    "del google_play"
   ]
  },
  {
   "cell_type": "code",
   "execution_count": 9,
   "metadata": {},
   "outputs": [],
   "source": [
    "df.drop([\n",
    "    'isEdited','title', 'reviewId', 'userImage', 'thumbsUpCount', 'reviewCreatedVersion'\n",
    "], axis=1, inplace=True)"
   ]
  },
  {
   "cell_type": "code",
   "execution_count": 10,
   "metadata": {},
   "outputs": [
    {
     "data": {
      "text/plain": [
       "at                    0\n",
       "content             331\n",
       "score                 0\n",
       "userName              7\n",
       "app                   0\n",
       "platform              0\n",
       "replyContent    1043631\n",
       "repliedAt       1043631\n",
       "appVersion       274087\n",
       "dtype: int64"
      ]
     },
     "execution_count": 10,
     "metadata": {},
     "output_type": "execute_result"
    }
   ],
   "source": [
    "df.isna().sum()"
   ]
  },
  {
   "cell_type": "code",
   "execution_count": 11,
   "metadata": {},
   "outputs": [],
   "source": [
    "df = df[(df.content.notna()) & (df.userName.notna())]"
   ]
  },
  {
   "cell_type": "code",
   "execution_count": 12,
   "metadata": {},
   "outputs": [],
   "source": [
    "df.rename(columns={\n",
    "    'at': 'date',\n",
    "    'repliedAt': 'repliedDate'\n",
    "}, inplace=True)"
   ]
  },
  {
   "cell_type": "code",
   "execution_count": 14,
   "metadata": {},
   "outputs": [],
   "source": [
    "df.to_csv('data/food_delivery_apps.csv', index=False)"
   ]
  }
 ],
 "metadata": {
  "kernelspec": {
   "display_name": "Python 3",
   "language": "python",
   "name": "python3"
  },
  "language_info": {
   "codemirror_mode": {
    "name": "ipython",
    "version": 3
   },
   "file_extension": ".py",
   "mimetype": "text/x-python",
   "name": "python",
   "nbconvert_exporter": "python",
   "pygments_lexer": "ipython3",
   "version": "3.11.5"
  }
 },
 "nbformat": 4,
 "nbformat_minor": 2
}
